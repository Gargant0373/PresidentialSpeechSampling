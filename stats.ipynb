{
 "cells": [
  {
   "cell_type": "code",
   "execution_count": null,
   "metadata": {},
   "outputs": [
    {
     "ename": "SyntaxError",
     "evalue": "unmatched ']' (2642799452.py, line 14)",
     "output_type": "error",
     "traceback": [
      "\u001b[0;36m  Cell \u001b[0;32mIn[1], line 14\u001b[0;36m\u001b[0m\n\u001b[0;31m    ]\u001b[0m\n\u001b[0m    ^\u001b[0m\n\u001b[0;31mSyntaxError\u001b[0m\u001b[0;31m:\u001b[0m unmatched ']'\n"
     ]
    }
   ],
   "source": [
    "import pandas as pd\n",
    "import matplotlib.pyplot as plt\n",
    "\n",
    "file_path = \"speech_samples_150.json\"\n",
    "data = pd.read_json(file_path)\n",
    "\n",
    "unique_presidents = data[\"president\"].nunique()\n",
    "mean_word_count = data[\"word_count\"].mean()\n",
    "std_word_count = data[\"word_count\"].std()\n",
    "\n",
    "print(\"Unique Presidents:\", unique_presidents)\n",
    "print(\"Mean Word Count:\", mean_word_count)\n",
    "print(\"Word Count Standard Deviation:\", std_word_count)\n",
    "\n",
    "plt.figure(figsize=(8, 6))\n",
    "plt.hist(data[\"word_count\"], bins=10, edgecolor=\"black\")\n",
    "plt.title(\"Histogram of Word Counts\")\n",
    "plt.xlabel(\"Word Count\")\n",
    "plt.ylabel(\"Frequency\")\n",
    "plt.grid(True)\n",
    "plt.show()\n"
   ]
  }
 ],
 "metadata": {
  "kernelspec": {
   "display_name": "Python 3",
   "language": "python",
   "name": "python3"
  },
  "language_info": {
   "codemirror_mode": {
    "name": "ipython",
    "version": 3
   },
   "file_extension": ".py",
   "mimetype": "text/x-python",
   "name": "python",
   "nbconvert_exporter": "python",
   "pygments_lexer": "ipython3",
   "version": "3.12.3"
  }
 },
 "nbformat": 4,
 "nbformat_minor": 2
}
